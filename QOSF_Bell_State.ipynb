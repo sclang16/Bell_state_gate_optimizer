{
 "cells": [
  {
   "cell_type": "markdown",
   "metadata": {
    "id": "puOfmPR_tpKC"
   },
   "source": [
    "# 1. Required dependencies: \n",
    "\n",
    "Outside of standard libraries in Python 3.7.0, the following libraries are required:\n",
    "\n",
    "* Qiskit 0.20.0\n",
    "* NumPy\n",
    "* pylatexenc\n",
    "* seaborn"
   ]
  },
  {
   "cell_type": "code",
   "execution_count": null,
   "metadata": {
    "colab": {
     "base_uri": "https://localhost:8080/",
     "height": 340
    },
    "id": "ZHPVNtwc9zXN",
    "outputId": "90deb9f2-8e69-41f0-da69-fc6c0d129a3b"
   },
   "outputs": [],
   "source": [
    "pip install qiskit -q"
   ]
  },
  {
   "cell_type": "code",
   "execution_count": null,
   "metadata": {
    "colab": {
     "base_uri": "https://localhost:8080/",
     "height": 51
    },
    "id": "ENuaHrZqJUqe",
    "outputId": "a8394684-5c9b-4174-d237-cd5c6b57d411"
   },
   "outputs": [],
   "source": [
    "pip install pylatexenc -q"
   ]
  },
  {
   "cell_type": "code",
   "execution_count": null,
   "metadata": {},
   "outputs": [],
   "source": [
    "pip install seaborn -q"
   ]
  },
  {
   "cell_type": "code",
   "execution_count": null,
   "metadata": {
    "id": "edEPCdet-BUA"
   },
   "outputs": [],
   "source": [
    "from qiskit import *\n",
    "import matplotlib\n",
    "import numpy as np\n",
    "import math\n",
    "\n",
    "from qiskit.quantum_info import Statevector, random_statevector\n",
    "from qiskit.visualization import plot_histogram, plot_state_qsphere\n",
    "from qiskit.providers.aer import QasmSimulator\n",
    "from qiskit.aqua.components.optimizers import AQGD\n",
    "from qiskit.circuit import Parameter\n",
    "from qiskit.aqua.components.initial_states import Zero, Custom\n",
    "\n",
    "%matplotlib inline"
   ]
  },
  {
   "cell_type": "markdown",
   "metadata": {
    "id": "TWPNzk_Y6D85"
   },
   "source": [
    "# 2. Target output\n",
    "\n",
    "The desired output of the optimized circuit is an equal probability of the computational basis measurements 01 and 10, or the statevector $|\\Psi^+\\rangle = \\frac{|01\\rangle + |10\\rangle}{\\sqrt{2}}$ prior to measurement. This state is the inverse of the more famous Bell state $|\\Phi^+\\rangle = \\frac{|00\\rangle + |11\\rangle}{\\sqrt{2}}$, which is typically formed by a Hadamard and CNOT gate.\n",
    "\n"
   ]
  },
  {
   "cell_type": "code",
   "execution_count": null,
   "metadata": {
    "colab": {
     "base_uri": "https://localhost:8080/",
     "height": 185
    },
    "id": "5WZnLgIpJ-1Y",
    "outputId": "305df294-ddfb-4fba-c867-ee27fa50135a"
   },
   "outputs": [],
   "source": [
    "# Initialize Bell state circuit\n",
    "\n",
    "circ_phi_plus = QuantumCircuit(2)\n",
    "circ_phi_plus.h(0)\n",
    "circ_phi_plus.cx(0,1)\n",
    "circ_phi_plus.measure_all()\n",
    "\n",
    "circ_phi_plus.draw(output='mpl')"
   ]
  },
  {
   "cell_type": "markdown",
   "metadata": {
    "id": "0Q_ITh_iJ_5Y"
   },
   "source": [
    "The state $|\\Psi^+\\rangle$ can be achieved by placing an X gate on the target qubit ahead of the CNOT, as shown in the circuit below.\n",
    "\n",
    "Note that this information is provided for purposes of logic comparison only. The high-level circuit used to achieve $|\\Psi^+\\rangle$ assumes an initial state of $|00\\rangle$, and thus is trivial in cases where the inital state is random."
   ]
  },
  {
   "cell_type": "code",
   "execution_count": null,
   "metadata": {
    "colab": {
     "base_uri": "https://localhost:8080/",
     "height": 185
    },
    "id": "Eg-5TOeRJ83h",
    "outputId": "93ad3781-a58f-4da7-df11-87676739989a"
   },
   "outputs": [],
   "source": [
    "# Initialize Bell state circuit for statevector observation\n",
    "\n",
    "circ_psi_plus = QuantumCircuit(2,2)\n",
    "circ_psi_plus.x(1)\n",
    "circ_psi_plus.h(0)\n",
    "circ_psi_plus.cx(0,1)\n",
    "\n",
    "circ_psi_plus.draw(output='mpl')"
   ]
  },
  {
   "cell_type": "code",
   "execution_count": null,
   "metadata": {
    "colab": {
     "base_uri": "https://localhost:8080/",
     "height": 479
    },
    "id": "FmthEl_QJsUT",
    "outputId": "9a1e7614-2b94-4b87-b60e-6133390bceee"
   },
   "outputs": [],
   "source": [
    "# Statevector output of Bell state circuit\n",
    "\n",
    "backend_state = Aer.get_backend('statevector_simulator')\n",
    "result = execute(circ_psi_plus,backend_state).result().get_statevector()\n",
    "print(\"Statevector: \", result, \"\\n\")\n",
    "\n",
    "state = Statevector.from_instruction(circ_psi_plus)\n",
    "plot_state_qsphere(state)"
   ]
  },
  {
   "cell_type": "code",
   "execution_count": null,
   "metadata": {
    "colab": {
     "base_uri": "https://localhost:8080/",
     "height": 467
    },
    "id": "XNGwEbhtL07a",
    "outputId": "baad9a39-09d6-4266-a398-bcf965d7387c"
   },
   "outputs": [],
   "source": [
    "# Prepare simulation on qasm_simulator backend\n",
    "\n",
    "# Add measurements to end of circuit\n",
    "circ_psi_plus.measure([0,1],[0,1])\n",
    "\n",
    "# Initialize measurement arrays\n",
    "num_meas = [1, 10, 100, 1000]\n",
    "counts_psi_plus = [0,0,0,0]\n",
    "\n",
    "# Select qasm_simulator backend, a noisy quantum circuit simulator when used with density matrix method\n",
    "backend_meas = Aer.get_backend('qasm_simulator')\n",
    "backend_options = {\"method\": \"density_matrix\"}\n",
    "\n",
    "# Number of measurements varied on each execution\n",
    "for i in range(4):\n",
    "  job_meas = execute(circ_psi_plus, backend_meas, shots = num_meas[i], backend_properties=backend_options)\n",
    "  result_meas  = job_meas.result()\n",
    "  counts_psi_plus[i] = result_meas.get_counts()\n",
    "  print(num_meas[i], \" shots: \", counts_psi_plus[i], \"\\n\")\n",
    "\n",
    "plot_histogram(counts_psi_plus[3])\n",
    "# Qiskit currently does not allow subplotting with plot_histogram. The 1000-shot trials are plotted for error analysis."
   ]
  },
  {
   "cell_type": "markdown",
   "metadata": {
    "id": "vbqEnUpazuTw"
   },
   "source": [
    "# 3. Circuit Optimization with Known Initial State\n",
    "\n",
    "In the code blocks below, the circuit architecture to be optimized is drawn, setting all initial rotation angles to 0. Note that because the circuit is built and simulated in Qiskit, a default inital state of $|00\\rangle$  is assumed when not specified otherwise.\n",
    "\n",
    "The purpose of examining the output in this situation is to validate the optimization algorithm and demonstrate that the architecture is acceptable for reaching the entangled state. \n"
   ]
  },
  {
   "cell_type": "code",
   "execution_count": null,
   "metadata": {
    "colab": {
     "base_uri": "https://localhost:8080/",
     "height": 185
    },
    "id": "1Vjw2ecaA6L2",
    "outputId": "9ca17a36-c297-49fc-8249-ef6883d655a6"
   },
   "outputs": [],
   "source": [
    "# Initialize gate parameters\n",
    "\n",
    "ry_0 = Parameter(\"th_0\")\n",
    "rx_1 = Parameter(\"th_1\")\n",
    "\n",
    "# Initialize circuit for optimization, allowing default state |00>\n",
    "\n",
    "circ = QuantumCircuit(2,2)\n",
    "circ.ry(ry_0, 0)\n",
    "circ.rx(rx_1, 1)\n",
    "circ.cx(0,1)\n",
    "#circ.assign_parameters({ry_0: rx_1}, inplace = True)\n",
    "\n",
    "print(circ.parameters)\n",
    "\n",
    "circ.draw(output='mpl')"
   ]
  },
  {
   "cell_type": "markdown",
   "metadata": {
    "id": "Yi3L2yfZ5ver"
   },
   "source": [
    "This circuit is constructed to create an entanglement such that the computational basis measurements 01 and 10 are at equal probabilities. An X rotation gate is provided on the target qubit ``` q_1 ``` in order to provide the required qubit flip to $|1\\rangle$ once optimized. Additionally, a Y rotation gate on ``` q_0 ``` will be used to form the desired superposition."
   ]
  },
  {
   "cell_type": "markdown",
   "metadata": {},
   "source": [
    "In order to expedite this optimization, the Analytic Quantum Gradient Descent (AQGD) optimizer will be used for each gate parameter. AQGD is a local optimization method created specifically for parameterized gate minimizations given an objective output. \\[[1](https://qiskit.org/documentation/stubs/qiskit.aqua.components.optimizers.AQGD.html),[2](https://link.aps.org/accepted/10.1103/PhysRevA.98.032309)\\]\n",
    "\n",
    "The cells below set up the optimization function to be executed throughout this project. The objective function is set to require an output of 01 and 10, each at an amplitude of 0.5. For purposes of expediting the optimization, the tolerance and maximum iterations are set to $1\\times 10^{-5}$ and 500, respectively. The learning rate $\\eta$ and the gradient momentum bias are left at their default values."
   ]
  },
  {
   "cell_type": "code",
   "execution_count": null,
   "metadata": {},
   "outputs": [],
   "source": [
    "def obj_fun(circuit):\n",
    "    # Input: phase_list is array of gate phase angles\n",
    "    target_out = [0*complex(1,0), math.sqrt(2)*complex(1,0), math.sqrt(2)*complex(1,0), 0*complex(1,0)]\n",
    "    \n",
    "    # obj is derived from tensor product of applied gates\n",
    "    obj_fun = circuit.parameter\n",
    "    \n",
    "    return obj_fun"
   ]
  },
  {
   "cell_type": "code",
   "execution_count": null,
   "metadata": {
    "id": "nxgXfhFwvsTS"
   },
   "outputs": [],
   "source": [
    "aqgd = AQGD(maxiter = 500, eta = 2.0, tol = 1e-06, disp = False, momentum = 0.25)\n",
    "\n",
    "# Conduct optimization of gate angles\n",
    "aqgd.optimize(2, obj_fun(circ), variable_bounds = (0, 2*np.pi), initial_point = [0,0]) "
   ]
  },
  {
   "cell_type": "code",
   "execution_count": null,
   "metadata": {
    "colab": {
     "base_uri": "https://localhost:8080/",
     "height": 185
    },
    "id": "7hX-UJeCIihn",
    "outputId": "ac158385-24ab-4d06-b956-6bba9a5fb163"
   },
   "outputs": [],
   "source": [
    "# Reprint optimized circuit with default state |00>\n",
    "\n",
    "circ = QuantumCircuit(2,2)\n",
    "\n",
    "circ.ry(theta_y_0, 0)\n",
    "circ.rx(theta_x_1, 1)\n",
    "circ.cx(0,1)\n",
    "\n",
    "circ.draw(output='mpl')"
   ]
  },
  {
   "cell_type": "code",
   "execution_count": null,
   "metadata": {
    "colab": {
     "base_uri": "https://localhost:8080/",
     "height": 445
    },
    "id": "p2zn3ea8IaBd",
    "outputId": "f602c593-9cae-43f7-f510-99887fc07052"
   },
   "outputs": [],
   "source": [
    "# Statevector output after circuit optimization\n",
    "backend_state = Aer.get_backend('statevector_simulator')\n",
    "result = execute(circ,backend_state).result().get_statevector()\n",
    "print(\"Optimized Statevector: \", result, \"\\n\")\n",
    "\n",
    "state = Statevector.from_instruction(circ)\n",
    "plot_state_qsphere(state)"
   ]
  },
  {
   "cell_type": "code",
   "execution_count": null,
   "metadata": {
    "colab": {
     "base_uri": "https://localhost:8080/",
     "height": 470
    },
    "id": "pGLjdWlTQmnt",
    "outputId": "97b3df5e-e3f8-45f5-8e70-7f6dec536d66"
   },
   "outputs": [],
   "source": [
    "# Prepare simulation on qasm_simulator backend\n",
    "\n",
    "# Add measurements to optimized circuit\n",
    "circ.measure([0,1],[0,1])\n",
    "\n",
    "# Reset counts matrix\n",
    "counts_meas = [0,0,0,0]\n",
    "\n",
    "# Again, use qasm_simulator backend with density_matrix method\n",
    "backend_meas = Aer.get_backend('qasm_simulator')\n",
    "backend_options = {\"method\": \"density_matrix\"}\n",
    "\n",
    "for i in range(4):\n",
    "  job_meas = execute(circ, backend_meas, shots = num_meas[i], backend_properties=backend_options)\n",
    "  result_meas  = job_meas.result()\n",
    "  counts_meas[i] = result_meas.get_counts()\n",
    "  print(num_meas[i], \" shots: \", counts_psi_plus[i], \"\\n\")\n",
    "\n",
    "plot_histogram(counts_meas[3])"
   ]
  },
  {
   "cell_type": "markdown",
   "metadata": {
    "id": "yWE6yc9bIsov"
   },
   "source": [
    "# 4. Circuit Optimization with Random Initial State\n",
    "\n"
   ]
  },
  {
   "cell_type": "markdown",
   "metadata": {},
   "source": [
    "Now, the previously written AQGD method is used to optimize a randomly initialized quantum circuit based on a randomly generated statevector."
   ]
  },
  {
   "cell_type": "code",
   "execution_count": null,
   "metadata": {
    "colab": {
     "base_uri": "https://localhost:8080/",
     "height": 185
    },
    "id": "N4SD18-2I_8C",
    "outputId": "91f838e1-1b98-4293-a1a5-424c87d3f9f0"
   },
   "outputs": [],
   "source": [
    "# Initialize gate parameters\n",
    "theta_x_1 = Parameter(\"th_1\")\n",
    "theta_y_0 = Parameter(\"th_0\")\n",
    "\n",
    "# Create random quantum state\n",
    "rand_state = random_statevector(4)\n",
    "\n",
    "# Initialize circuit for optimization with random initial state\n",
    "q = QuantumRegister(2)\n",
    "c = ClassicalRegister(2)\n",
    "circ2 = QuantumCircuit(q,c)\n",
    "circ2.initialize(rand_state.data,[q[0],q[1]])\n",
    "\n",
    "# Statevector output after initialization\n",
    "backend_state = Aer.get_backend('statevector_simulator')\n",
    "result = execute(circ2,backend_state).result().get_statevector()\n",
    "print(\"Initial Statevector: \", result, \"\\n\")\n",
    "\n",
    "state = Statevector.from_instruction(circ2)\n",
    "plot_state_qsphere(state)"
   ]
  },
  {
   "cell_type": "code",
   "execution_count": null,
   "metadata": {
    "colab": {
     "base_uri": "https://localhost:8080/",
     "height": 445
    },
    "id": "mpDe5b_SJjWd",
    "outputId": "f602c593-9cae-43f7-f510-99887fc07052"
   },
   "outputs": [],
   "source": [
    "circ2.ry(theta_y_0, 0)\n",
    "circ2.rx(theta_x_1, 1)\n",
    "circ2.cx(0,1)\n",
    "\n",
    "circ2.draw(output='mpl')"
   ]
  },
  {
   "cell_type": "code",
   "execution_count": null,
   "metadata": {
    "id": "Zyv3uWlNJuJn"
   },
   "outputs": [],
   "source": [
    "# AQGD placeholder\n",
    "aqgd2 = AQGD(maxiter = 500, eta = 2.0, tol = 1e-06, disp = False, momentum = 0.25)\n",
    "\n",
    "# Conduct optimization of gate angles\n",
    "aqgd2.optimize(2, obj_fun(circ2), variable_bounds = (0, 2*np.pi), initial_point = [0, 0]) "
   ]
  },
  {
   "cell_type": "code",
   "execution_count": null,
   "metadata": {
    "colab": {
     "base_uri": "https://localhost:8080/",
     "height": 185
    },
    "id": "TV6zVG0RMclE",
    "outputId": "91f838e1-1b98-4293-a1a5-424c87d3f9f0"
   },
   "outputs": [],
   "source": [
    "# Redraw optimized circuit with random initial state??\n",
    "\n",
    "circ2 = QuantumCircuit(2,2)\n",
    "\n",
    "circ2.ry(theta_y_0, 0)\n",
    "circ2.rx(theta_x_1, 1)\n",
    "circ2.cx(0,1)\n",
    "\n",
    "circ2.draw(output='mpl')"
   ]
  },
  {
   "cell_type": "code",
   "execution_count": null,
   "metadata": {
    "colab": {
     "base_uri": "https://localhost:8080/",
     "height": 445
    },
    "id": "RSotKssEMwF8",
    "outputId": "b89aa812-52e2-4fe2-f95c-62975a879cec"
   },
   "outputs": [],
   "source": [
    "# Statevector output after circuit optimization\n",
    "backend_state = Aer.get_backend('statevector_simulator')\n",
    "result = execute(circ2,backend_state).result().get_statevector()\n",
    "print(\"Optimized Statevector: \", result, \"\\n\")\n",
    "\n",
    "state = Statevector.from_instruction(circ2)\n",
    "plot_state_qsphere(state)"
   ]
  },
  {
   "cell_type": "code",
   "execution_count": null,
   "metadata": {
    "colab": {
     "base_uri": "https://localhost:8080/",
     "height": 467
    },
    "id": "jrqYQQnBM8fN",
    "outputId": "60d7b087-add0-456f-ee19-0c311fa087b0"
   },
   "outputs": [],
   "source": [
    "# Prepare simulation on qasm_simulator backend - vary by number of measurements\n",
    "\n",
    "circ2.measure([0,1],[0,1])\n",
    "\n",
    "counts_meas = [0,0,0,0]\n",
    "\n",
    "# Again, use qasm_simulator backend with density_matrix method\n",
    "backend_meas = Aer.get_backend('qasm_simulator')\n",
    "backend_options = {\"method\": \"density_matrix\"}\n",
    "\n",
    "for i in range(4):\n",
    "  job_meas = execute(circ2, backend_meas, shots = num_meas[i], backend_properties=backend_options)\n",
    "  result_meas  = job_meas.result()\n",
    "  counts_meas[i] = result_meas.get_counts()\n",
    "  print(num_meas[i], \" shots: \", counts_psi_plus[i], \"\\n\")\n",
    "\n",
    "plot_histogram(counts_meas[3])"
   ]
  },
  {
   "cell_type": "markdown",
   "metadata": {
    "id": "JkfVtG3XO87b"
   },
   "source": [
    "# 5. Global Phase Factor Regulation\n",
    "\n",
    "In this project, the target output statevector assumed a phase of 0 on both qubits. Maintaining this phase angle on each qubit is achieved by forcing all four amplitudes in the statevector to be real, and thus is handled by the gate parameter optimization.\n",
    "\n",
    "In general, a global phase factor of zero can be maintained by applying some RZ rotation such that it is returned to 0. The phase angle of this gate $\\theta$ can be optimized by a similar AQGD process like the one above. When the RZ gate is not available in the transpiled circuit, the equivalent gate can be achieved from an equivalent series of RX and RY gates:\n",
    "\n",
    "$$\n",
    "R_Z(\\theta) = e^{-i\\theta/2Z}\n",
    "= e^{-i\\theta/2(-iXY)}\n",
    "= e^{-i\\theta/4X}e^{-i\\theta/4Y}\n",
    "= R_X(\\theta/2)R_Y(\\theta/2)\n",
    "$$\n",
    "\n",
    "By this decomposition, an RZ operation can be created by an RXRY operation at half the required phase rotation."
   ]
  }
 ],
 "metadata": {
  "colab": {
   "name": "QOSF Bell State.ipynb",
   "provenance": []
  },
  "kernelspec": {
   "display_name": "Python 3",
   "language": "python",
   "name": "python3"
  },
  "language_info": {
   "codemirror_mode": {
    "name": "ipython",
    "version": 3
   },
   "file_extension": ".py",
   "mimetype": "text/x-python",
   "name": "python",
   "nbconvert_exporter": "python",
   "pygments_lexer": "ipython3",
   "version": "3.7.0"
  }
 },
 "nbformat": 4,
 "nbformat_minor": 1
}
